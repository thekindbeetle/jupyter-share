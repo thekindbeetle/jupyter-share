{
 "cells": [
  {
   "cell_type": "markdown",
   "id": "eb8f17fe-4748-49a7-b42c-2dc94b363fbf",
   "metadata": {},
   "source": [
    "Набор запаздываний произвольный: $\\{h_1, h_2, \\ldots, h_n\\}$."
   ]
  },
  {
   "cell_type": "markdown",
   "id": "d3b9684b-fdbf-4bd4-acac-276bdb2cbce7",
   "metadata": {},
   "source": [
    "$u$ - периодичекое решение уравнения\n",
    "$$\\dot{u} = -\\beta u + \\alpha \\omega \\cdot F(\\omega), \\text{ где } \\omega = u(t - h_1) + u(t - h_2) + \\ldots + u(t - h_n).$$"
   ]
  },
  {
   "cell_type": "markdown",
   "id": "a5118a62-15f7-4e6f-bd30-d1a76146ac9e",
   "metadata": {},
   "source": [
    "$$F(\\omega) = \\begin{cases} 0,&\\omega > 1,\\\\1,&\\omega \\in (0; 1).\\end{cases}$$"
   ]
  },
  {
   "cell_type": "markdown",
   "id": "9f398372-2cf0-4940-be20-591bb68d5e0b",
   "metadata": {
    "jp-MarkdownHeadingCollapsed": true,
    "tags": []
   },
   "source": [
    "### Import"
   ]
  },
  {
   "cell_type": "code",
   "execution_count": 1,
   "id": "dc2ba210-bcf9-402e-a50f-0e56227a44dd",
   "metadata": {
    "tags": []
   },
   "outputs": [],
   "source": [
    "import numpy as np\n",
    "import matplotlib.pyplot as plt\n",
    "import scipy.optimize\n",
    "import matplotlib"
   ]
  },
  {
   "cell_type": "code",
   "execution_count": 2,
   "id": "89a3dc22-23d1-481b-8681-7042a1f6cbdf",
   "metadata": {},
   "outputs": [],
   "source": [
    "plt.rcParams.update({'text.usetex': True,\n",
    "                     'text.latex.preamble': [],\n",
    "                     'font.family': 'sans-serif',\n",
    "                     'font.sans-serif': 'cm',\n",
    "                     'font.size': 32,\n",
    "                     'font.weight': 1000,\n",
    "                     'figure.figsize': (9, 9)\n",
    "                    })"
   ]
  },
  {
   "cell_type": "code",
   "execution_count": 3,
   "id": "e1d1386c-c374-4619-99e0-121378dc4aa6",
   "metadata": {},
   "outputs": [],
   "source": [
    "%matplotlib qt"
   ]
  },
  {
   "cell_type": "markdown",
   "id": "c3f82bfb-a2e4-478a-935a-ec3ef2e2f1f7",
   "metadata": {},
   "source": [
    "### Problem Statement"
   ]
  },
  {
   "cell_type": "markdown",
   "id": "f35d8935-580f-4432-be12-e0fadd6da22e",
   "metadata": {},
   "source": [
    "Обозначим\n",
    "$$u(t_0) = A = \\sum\\limits_{i = 1}^n e^{h_i}.$$"
   ]
  },
  {
   "cell_type": "code",
   "execution_count": 4,
   "id": "a67b7732-7fed-49b2-a628-ae25ec4ff707",
   "metadata": {},
   "outputs": [],
   "source": [
    "# beta - вещественное, h - набор запаздываний\n",
    "def A(beta, h):\n",
    "    return np.sum(list(map(np.exp, h)))"
   ]
  },
  {
   "cell_type": "markdown",
   "id": "9bc7474d-bb84-4f82-a451-f3a6e29b701c",
   "metadata": {
    "jp-MarkdownHeadingCollapsed": true,
    "tags": []
   },
   "source": [
    "## Some initial solutions"
   ]
  },
  {
   "cell_type": "code",
   "execution_count": 7,
   "id": "ad6dcafa-b760-4547-a311-af6c34bbf3a9",
   "metadata": {},
   "outputs": [],
   "source": [
    "def F(x):\n",
    "    return (x < 1).astype(int)"
   ]
  },
  {
   "cell_type": "code",
   "execution_count": 8,
   "id": "3125490c-b11f-4186-a037-fbd5f2c60857",
   "metadata": {
    "tags": []
   },
   "outputs": [
    {
     "name": "stdout",
     "output_type": "stream",
     "text": [
      "8.44656\n"
     ]
    }
   ],
   "source": [
    "m = 5\n",
    "beta = 2.0\n",
    "alpha = 10.0\n",
    "delta = 1.40776\n",
    "u0 = 1.5\n",
    "h = np.array([1] + [delta * i for i in range(1, m + 1)])\n",
    "print(delta * (m + 1))"
   ]
  },
  {
   "cell_type": "code",
   "execution_count": 9,
   "id": "8b1b77d3-09f9-4ab1-b3c6-3ec24702673e",
   "metadata": {
    "tags": []
   },
   "outputs": [
    {
     "name": "stdout",
     "output_type": "stream",
     "text": [
      "8.44656\n"
     ]
    }
   ],
   "source": [
    "m = 5\n",
    "beta = 2.0\n",
    "alpha = 10.0\n",
    "delta = 1.40776\n",
    "u0 = 1.5\n",
    "h = np.array([1] + [delta * i for i in range(1, m + 1)])\n",
    "print(delta * (m + 1))"
   ]
  },
  {
   "cell_type": "code",
   "execution_count": null,
   "id": "36f0ff9d-69db-4710-ae70-75d812201163",
   "metadata": {
    "tags": []
   },
   "outputs": [],
   "source": [
    "m = 5\n",
    "delta = 1.2\n",
    "h = np.array([1] + [delta * i for i in range(1, m + 1)])\n",
    "beta = 3.3\n",
    "alpha = 34.88\n",
    "u0 = 1.5\n",
    "print(delta * (m + 1))"
   ]
  },
  {
   "cell_type": "code",
   "execution_count": 72,
   "id": "603d467f-b7d5-45f0-84c2-205cc0b7d20d",
   "metadata": {},
   "outputs": [
    {
     "name": "stdout",
     "output_type": "stream",
     "text": [
      "9.421510000000001\n"
     ]
    }
   ],
   "source": [
    "m = 6\n",
    "beta = 2.3\n",
    "alpha = 14.0\n",
    "delta = 1.34593\n",
    "u0 = 1.5\n",
    "h = np.array([1] + [delta * i for i in range(1, m + 1)])\n",
    "print(delta * (m + 1))"
   ]
  },
  {
   "cell_type": "code",
   "execution_count": 10,
   "id": "9be5389a-aad7-417d-a95f-0d3070573237",
   "metadata": {
    "tags": []
   },
   "outputs": [
    {
     "name": "stdout",
     "output_type": "stream",
     "text": [
      "5.403\n",
      "[1.    1.801 3.602]\n"
     ]
    }
   ],
   "source": [
    "# В 3D!\n",
    "m = 2\n",
    "beta = 1.2\n",
    "alpha = 5.0\n",
    "delta = 1.801\n",
    "u0 = 1.5\n",
    "h = np.array([1] + [delta * i for i in range(1, m + 1)])\n",
    "print(delta * (m + 1))\n",
    "print(h)"
   ]
  },
  {
   "cell_type": "code",
   "execution_count": 23,
   "id": "882ed9f8-212d-4227-a496-5ea46ef87904",
   "metadata": {},
   "outputs": [],
   "source": [
    "m = 1\n",
    "beta = 1.2\n",
    "alpha = 5.0\n",
    "delta = 1.9228\n",
    "u0 = 1.5\n",
    "h = np.array([1] + [delta * i for i in range(1, m + 1)])"
   ]
  },
  {
   "cell_type": "code",
   "execution_count": 8,
   "id": "a4fce920-8818-497b-b647-85cfa1207a27",
   "metadata": {},
   "outputs": [],
   "source": [
    "m = 6\n",
    "beta = 0.3\n",
    "delta = 0.6\n",
    "alpha = 41.013\n",
    "h = np.array([1] + [delta * i for i in range(1, m + 1)])\n",
    "u0 = 2.0"
   ]
  },
  {
   "cell_type": "code",
   "execution_count": 52,
   "id": "183b14c1-b704-40a2-a0b6-e96bc8f8850e",
   "metadata": {},
   "outputs": [],
   "source": [
    "m = 6\n",
    "beta = 0.3\n",
    "delta = 0.01\n",
    "alpha = 0.3967\n",
    "h = np.array([1] + [delta * i for i in range(1, m + 1)])\n",
    "u0 = 2.0"
   ]
  },
  {
   "cell_type": "markdown",
   "id": "b8d8a62a-c34c-4c31-8622-c83f1f053cfa",
   "metadata": {
    "jp-MarkdownHeadingCollapsed": true,
    "tags": []
   },
   "source": [
    "## Euler method for one equation"
   ]
  },
  {
   "cell_type": "code",
   "execution_count": 11,
   "id": "d5b1ca1c-8e71-4939-881d-67568937811a",
   "metadata": {},
   "outputs": [],
   "source": [
    "step_number = 3900000\n",
    "step_length = 0.00001 # Шаг сетки\n",
    "abs_length = step_number * step_length  #  Длина отрезка, на котором считаем решение\n",
    "one_steps = int(1.0 / step_length)  # Длина единицы в шагах\n",
    "start_length = h.max()\n",
    "start_steps = int(one_steps * start_length)"
   ]
  },
  {
   "cell_type": "code",
   "execution_count": 12,
   "id": "afb93154-039f-40f2-9573-d6b363ddc59e",
   "metadata": {},
   "outputs": [],
   "source": [
    "s = np.zeros(step_number)\n",
    "s[:start_steps] = u0"
   ]
  },
  {
   "cell_type": "code",
   "execution_count": 10,
   "id": "65bf7d0e-aca7-44ef-918d-791ce5c3dcfa",
   "metadata": {},
   "outputs": [],
   "source": [
    "# s[:one_steps] = u0 + np.linspace(0, 2, one_steps)[::-1]"
   ]
  },
  {
   "cell_type": "code",
   "execution_count": 11,
   "id": "6495a19e-7e8e-48ea-87cb-437cee94d7eb",
   "metadata": {},
   "outputs": [],
   "source": [
    "# Дискретные запаздывания.\n",
    "# lags = np.zeros(len(h) + 1).astype(int)\n",
    "# lags[:-1] = (np.array(h) * one_steps).astype(int)\n",
    "# # lags[-1] = 10000\n",
    "# lags"
   ]
  },
  {
   "cell_type": "code",
   "execution_count": 13,
   "id": "e497e750-f9b2-470f-848f-48358e433512",
   "metadata": {
    "tags": []
   },
   "outputs": [
    {
     "data": {
      "text/plain": [
       "array([ 99999, 180098, 360196])"
      ]
     },
     "execution_count": 13,
     "metadata": {},
     "output_type": "execute_result"
    }
   ],
   "source": [
    "# Дискретные запаздывания.\n",
    "lags = (np.array(h) * one_steps).astype(int)\n",
    "lags"
   ]
  },
  {
   "cell_type": "code",
   "execution_count": 14,
   "id": "07d6186f-49d5-4b43-b8b9-a42625f77345",
   "metadata": {
    "tags": []
   },
   "outputs": [
    {
     "name": "stdout",
     "output_type": "stream",
     "text": [
      "766494 1\n",
      "885633 0\n",
      "1306787 1\n",
      "1425925 0\n",
      "1847077 1\n",
      "1966215 0\n",
      "2387368 1\n",
      "2506506 0\n",
      "2927659 1\n",
      "3046797 0\n",
      "3467950 1\n",
      "3587089 0\n"
     ]
    }
   ],
   "source": [
    "# Следим за точками переключения.\n",
    "rezhim = 0\n",
    "\n",
    "# Точки переключения\n",
    "relay = []\n",
    "\n",
    "# Аргумент функции F\n",
    "w = np.zeros(step_number) \n",
    "\n",
    "for i in range(start_steps, step_number):\n",
    "    a = np.sum([s[i - lag] for lag in lags])\n",
    "    du = -beta * s[i - 1] + alpha * a * F(a)\n",
    "    if F(a) != rezhim:\n",
    "        rezhim = F(a)\n",
    "        relay = relay + [i]\n",
    "        print(i, rezhim)\n",
    "    s[i] = s[i - 1] + du * step_length\n",
    "    w[i] = a"
   ]
  },
  {
   "cell_type": "code",
   "execution_count": 18,
   "id": "cbb582cd-0071-43fe-aa11-f102b1fd2cb9",
   "metadata": {},
   "outputs": [],
   "source": [
    "relay_abs = (np.array(relay) - start_steps) * step_length"
   ]
  },
  {
   "cell_type": "code",
   "execution_count": 19,
   "id": "18fd3290-7d7d-4271-ac0e-4706f7f2a1be",
   "metadata": {
    "tags": []
   },
   "outputs": [
    {
     "data": {
      "text/plain": [
       "array([ 4.06298,  5.25437,  9.46591, 10.65729, 14.86881, 16.06019,\n",
       "       20.27172, 21.4631 , 25.67463, 26.86601, 31.07754, 32.26893])"
      ]
     },
     "execution_count": 19,
     "metadata": {},
     "output_type": "execute_result"
    }
   ],
   "source": [
    "relay_abs"
   ]
  },
  {
   "cell_type": "code",
   "execution_count": 20,
   "id": "37600108-5c0b-4904-95d5-e537871b107e",
   "metadata": {},
   "outputs": [
    {
     "data": {
      "text/plain": [
       "(0.0, 4.0)"
      ]
     },
     "execution_count": 20,
     "metadata": {},
     "output_type": "execute_result"
    }
   ],
   "source": [
    "fig, ax = plt.subplots(2, 1, sharex=True)\n",
    "# fig.suptitle(\"$\\\\alpha = {alpha:.1f}, \\\\beta = {beta:.1f}$\".format(alpha=alpha, beta=beta))\n",
    "fig.suptitle(\"$a = {alpha:.1f}, b = {beta:.1f}$\".format(alpha=alpha, beta=beta))\n",
    "\n",
    "ax[0].plot(np.arange(-start_length, abs_length - start_length, step_length), s, '-', color='k', lw=2)\n",
    "ax[0].set_title('$u(t)$')\n",
    "ax[0].set_ylim((-0.1, ax[0].get_ylim()[1] + 0.1))\n",
    "ax[0].text(0, u0, \"$u_0$\")\n",
    "ax[0].text(relay_abs[0] + 0.1, 0, \"$t_0$\")\n",
    "ax[0].text(relay_abs[1] + 0.1, 0, \"$t_1$\")\n",
    "\n",
    "ax[1].set_title('$\\omega(t)$')\n",
    "ax[1].plot(np.arange(-start_length, abs_length - start_length, step_length)[start_steps:], w[start_steps:], '-', color='r', lw=2)\n",
    "for i in range(len(relay)):\n",
    "    ax[1].plot([relay_abs[i], relay_abs[i]], [-0.1, w[relay[i]]], '--k', ms=5)\n",
    "ax[1].set_ylim((-0.1, ax[1].get_ylim()[1] + 0.1))\n",
    "ax[1].set_xlim(-1, abs_length - 1)\n",
    "ax[1].text(relay_abs[0], -0.6, \"$t_0$\")\n",
    "ax[1].text(relay_abs[1], -0.6, \"$t_1$\")\n",
    "\n",
    "for i in range(len(relay)):\n",
    "    ax[0].plot([relay_abs[i], relay_abs[i]], [-0.1, s[relay[i]]], '--k', ms=5)\n",
    "    ax[1].plot([relay_abs[i], relay_abs[i]], [-0.1, w[relay[i]]], '--k', ms=5)\n",
    "\n",
    "ax[1].plot([0, 30], [1, 1], '--k')\n",
    "    \n",
    "# for i in range(len(h)):\n",
    "#     ax[1].plot([h[i], h[i]], [-0.1, w[lags[i] + one_steps]], '--k', ms=5)\n",
    "#     ax[1].text(h[i], 0, \"$h_{0}$\".format(i+1))\n",
    "    \n",
    "# plt.xlim(-0.5, 30)\n",
    "plt.xlim(-start_length, 30)\n",
    "ax[1].set_ylim(0, 4)\n",
    "    \n",
    "# ax[1].plot([relay_abs[0] + h[0], relay_abs[0] + h[0]], [-0.1, w[lags[0] + relay[0]]], '--k', ms=5)\n",
    "# ax[1].text(relay_abs[0] + h[0] - 0.2, -0.5, \"$t_0 + h_1$\")\n",
    "\n",
    "# ax[1].set_xticks(np.concatenate([[relay_abs[0]], relay_abs[0] + h, [relay_abs[1]], relay_abs[1] + h, [relay_abs[0] + 1], relay_abs[0] + 1 + h]))\n",
    "# ax[1].set_xticklabels(['$t_0$'] + ['$t_0 + h_{0}$'.format(i + 1) for i in range(len(h))] +\n",
    "#                       ['$t_1$'] + ['$t_1 + h_{0}$'.format(i + 1) for i in range(len(h))] + \n",
    "#                       ['$t_0 + 1$'] + ['$t_0 + 1 + h_{0}$'.format(i + 1) for i in range(len(h))]);"
   ]
  },
  {
   "cell_type": "markdown",
   "id": "ef225f4d-1d4f-40ee-b36e-ea470a6fb371",
   "metadata": {
    "tags": []
   },
   "source": [
    "## Euler method for the limiting system"
   ]
  },
  {
   "cell_type": "markdown",
   "id": "a78646ae-fd82-4819-9f81-5b3ee435aaf0",
   "metadata": {},
   "source": [
    "Nnumerically solve the system $$u_j = - \\beta u_j + \\alpha \\left(u_j(t - 1) + \\sum\\limits_{k = 0, k \\neq j}^{m}u_k(t)\\right) F \\left(u_j(t - 1) + \\sum\\limits_{k = 0, k \\neq j}^{m}u_k(t)\\right).$$"
   ]
  },
  {
   "cell_type": "code",
   "execution_count": 21,
   "id": "a1a06b0d-c58b-450b-992a-e30ea3a1da1a",
   "metadata": {},
   "outputs": [],
   "source": [
    "# Полученное на предыдыущем шаге решение используем как начальное условие.\n",
    "initial_solution = s[relay[0]:]"
   ]
  },
  {
   "cell_type": "code",
   "execution_count": 22,
   "id": "0275aa29-688d-4d64-acba-7df0e449b77a",
   "metadata": {},
   "outputs": [],
   "source": [
    "step_number = 10000000\n",
    "step_length = 0.00001 # Шаг сетки\n",
    "abs_length = step_number * step_length  #  Длина отрезка, на котором считаем решение\n",
    "one_steps = int(1.0 / step_length)  # Длина единицы в шагах\n",
    "start_length = h.max()\n",
    "start_steps = int(one_steps * start_length)"
   ]
  },
  {
   "cell_type": "code",
   "execution_count": 23,
   "id": "3ca64bf4-e54c-4754-96f2-3dba20e86f46",
   "metadata": {},
   "outputs": [],
   "source": [
    "# Решения для разных генераторов\n",
    "limit_solutions = [np.zeros(step_number) for i in range(m + 1)]"
   ]
  },
  {
   "cell_type": "code",
   "execution_count": 24,
   "id": "71c471f5-861a-49fb-a808-0db28bdec43c",
   "metadata": {},
   "outputs": [],
   "source": [
    "# Аргумент функции F\n",
    "limit_w = [np.zeros(step_number) for i in range(m + 1)]"
   ]
  },
  {
   "cell_type": "code",
   "execution_count": 25,
   "id": "f8a8b750-d7cc-4a5a-a6e6-f852e5f44fc3",
   "metadata": {
    "tags": []
   },
   "outputs": [],
   "source": [
    "# Дискретные запаздывания.\n",
    "lags = (np.array(h) * one_steps).astype(int)\n",
    "lags\n",
    "lags = sorted(lags)"
   ]
  },
  {
   "cell_type": "code",
   "execution_count": 26,
   "id": "0349aded-7f3e-4487-b303-ef2365b9d22f",
   "metadata": {},
   "outputs": [],
   "source": [
    "# Задаём функцию на длине запаздывания, с которой (с разными запаздываниями) стартуют все генераторы.\n",
    "# initial_solution = [u0 * np.exp(-t * step_length) for t in range(lags[-1] * 2 + 1)]"
   ]
  },
  {
   "cell_type": "code",
   "execution_count": 27,
   "id": "589e04b2-8320-4593-ade5-864851ed20f9",
   "metadata": {},
   "outputs": [],
   "source": [
    "for i in range(m + 1):\n",
    "    limit_solutions[i][:start_steps] = initial_solution[lags[i] - lags[0]: start_steps + lags[i] - lags[0]]"
   ]
  },
  {
   "cell_type": "code",
   "execution_count": 28,
   "id": "8c70c4a2-f012-486d-8cf7-656e1bd66f95",
   "metadata": {
    "tags": []
   },
   "outputs": [
    {
     "name": "stdout",
     "output_type": "stream",
     "text": [
      "................................................................................................"
     ]
    }
   ],
   "source": [
    "# Следим за точками переключения.\n",
    "rezhim = 0\n",
    "\n",
    "# Точки переключения\n",
    "# relay = []\n",
    "\n",
    "for i in range(start_steps, step_number):\n",
    "    if (i % 100000 == 0):\n",
    "        print('.', end='')\n",
    "    for j in range(m + 1):\n",
    "        a_j = limit_solutions[j][i - one_steps - 1] + np.sum([limit_solutions[gen][i - 1] for gen in range(m + 1)]) - limit_solutions[j][i - 1]\n",
    "        du_j = -beta * limit_solutions[j][i - 1] + alpha * a_j * F(a_j)\n",
    "        # if F(a) != rezhim:\n",
    "        #     rezhim = F(a)\n",
    "        #     relay = relay + [i]\n",
    "        #     print(i, rezhim)\n",
    "        limit_solutions[j][i] = limit_solutions[j][i - 1] + du_j * step_length\n",
    "        limit_w[j][i] = a_j"
   ]
  },
  {
   "cell_type": "code",
   "execution_count": 29,
   "id": "af4f09c1-95e7-42b1-b076-563b33f9b49b",
   "metadata": {},
   "outputs": [
    {
     "data": {
      "text/plain": [
       "<matplotlib.legend.Legend at 0x27780097370>"
      ]
     },
     "execution_count": 29,
     "metadata": {},
     "output_type": "execute_result"
    }
   ],
   "source": [
    "plt.figure()\n",
    "plt.title(r'$\\alpha={0:.2f}, \\beta={1:.2f}, m = {2}$'.format(alpha, beta, m))\n",
    "plt.plot(np.arange(-start_length, abs_length - start_length, step_length)[1000000:3000000][::10], limit_solutions[0][1000000:3000000][::10], '-', color='k', lw=1, label=r'$u_0(t)$')\n",
    "plt.plot(np.arange(-start_length, abs_length - start_length, step_length)[1000000:3000000][::10], limit_solutions[1][1000000:3000000][::10], '-', color='r', lw=1, label=r'$u_1(t)$')\n",
    "plt.plot(np.arange(-start_length, abs_length - start_length, step_length)[1000000:3000000][::10], limit_solutions[2][1000000:3000000][::10], '-', color='b', lw=1, label=r'$u_2(t)$')\n",
    "plt.ylim(0, 2.5)\n",
    "plt.xlabel(r'$t$')\n",
    "plt.legend()"
   ]
  },
  {
   "cell_type": "code",
   "execution_count": 30,
   "id": "f902fb07-1ff7-49d9-b39f-e4c1df36eb0f",
   "metadata": {},
   "outputs": [],
   "source": [
    "from mpl_toolkits.mplot3d.art3d import Line3DCollection"
   ]
  },
  {
   "cell_type": "code",
   "execution_count": 31,
   "id": "77a48d14-e308-4e86-bb1b-25d2d48f52e6",
   "metadata": {},
   "outputs": [
    {
     "data": {
      "text/plain": [
       "(0.0, 1.8)"
      ]
     },
     "execution_count": 31,
     "metadata": {},
     "output_type": "execute_result"
    }
   ],
   "source": [
    "# Для первых трёх генераторов нарисуем фазовую траекторию (3D)\n",
    "fig = plt.figure()\n",
    "ax = fig.add_subplot(projection='3d')\n",
    "# ax.set_title(r'$\\alpha={0:.2f}, \\beta={1:.2f}, m = {2}$'.format(alpha, beta, m))\n",
    "ax.set_title(r'$a={0:.2f}, b={1:.2f}, m = {2}$'.format(alpha, beta, m))\n",
    "\n",
    "# Длина установочного отрезка\n",
    "L = 1000000\n",
    "\n",
    "# l1 = [(0, 0, 0), (0, 0, 2)]\n",
    "# l2 = [(0, 0, 0), (0, 2, 0)]\n",
    "# l3 = [(0, 0, 0), (2, 0, 0)]\n",
    "# lc = Line3DCollection([l1, l2, l3], color='k', lw=1)\n",
    "\n",
    "# plt.gca().add_collection(lc)\n",
    "\n",
    "ax.w_xaxis.set_pane_color((1.0, 1.0, 1.0, 1.0))\n",
    "ax.w_yaxis.set_pane_color((1.0, 1.0, 1.0, 1.0))\n",
    "ax.w_zaxis.set_pane_color((1.0, 1.0, 1.0, 1.0))\n",
    "\n",
    "# ax.plot(s[0][:l][::20], s[1][:l][::20], s[2][:l][::20], '--k', lw=1)\n",
    "ax.plot(limit_solutions[0][L:][::20], limit_solutions[1][L:][::20], limit_solutions[2][L:][::20], '-k', lw=2)\n",
    "ax.set_xlabel(r'$u_1(t)$')\n",
    "ax.set_ylabel(r'$u_2(t)$')\n",
    "ax.set_zlabel(r'$u_3(t)$')\n",
    "\n",
    "ax.set_xticks([0, 0.5, 1.0, 1.5])\n",
    "ax.set_yticks([0, 0.5, 1.0, 1.5])\n",
    "ax.set_zticks([0, 0.5, 1.0, 1.5])\n",
    "\n",
    "ax.set_xticklabels([r'$0$', \"\", \"\", r'$1.5$'])\n",
    "ax.set_yticklabels([r'$0$', \"\", \"\", r'$1.5$'])\n",
    "ax.set_zticklabels([r'$0$', \"\", \"\", r'$1.5$'])\n",
    "\n",
    "ax.set_xlim(0.0, 1.8)\n",
    "ax.set_ylim(0.0, 1.8)\n",
    "ax.set_zlim(0.0, 1.8)"
   ]
  },
  {
   "cell_type": "markdown",
   "id": "f1576949-3f70-47f1-a32f-e97117440b4b",
   "metadata": {},
   "source": [
    "## Посчитаем обычную систему Мэки-Гласса (не предельное) для разных $\\gamma$."
   ]
  },
  {
   "cell_type": "code",
   "execution_count": 32,
   "id": "6d9063a2-4b99-47ff-ae38-51a08e0189dc",
   "metadata": {},
   "outputs": [],
   "source": [
    "# Показатель из системы Мэки-Гласса\n",
    "# g_list = np.arange(5.0, 11.0, 1.0)\n",
    "# g_list = [5.0, 7.0, 8.0, 9.0, 10.0, 15.0, 20.0, 50.0]\n",
    "g_list = [10.0, 50.0, 100.0]"
   ]
  },
  {
   "cell_type": "code",
   "execution_count": 33,
   "id": "4d921f0f-248b-4f1b-b2cc-ca5e9db0d46c",
   "metadata": {},
   "outputs": [],
   "source": [
    "### Генератор цветов\n",
    "def colorgen():\n",
    "    while True:\n",
    "        # yield (0, 0, 0)\n",
    "        yield (1, 0, 0, 0.7)\n",
    "        yield (0, 0, 1, 0.7)\n",
    "        yield (0, 1, 0, 0.7)\n",
    "        yield (1, 1, 0, 0.7)\n",
    "        yield (1, 0, 1, 0.7)\n",
    "        yield (0, 1, 1, 0.7)\n",
    "        \n",
    "colors = colorgen()"
   ]
  },
  {
   "cell_type": "code",
   "execution_count": 34,
   "id": "3156718a-71b0-4089-9e0a-904ff0d795dd",
   "metadata": {},
   "outputs": [],
   "source": [
    "# Полученное на предыдыущем шаге решение используем как начальное условие.\n",
    "# initial_solution = s[relay[0]:]"
   ]
  },
  {
   "cell_type": "code",
   "execution_count": 271,
   "id": "ac212991-5fbf-4f2e-a298-8bcf8909c881",
   "metadata": {},
   "outputs": [],
   "source": [
    "# step_number = 10000000\n",
    "# step_length = 0.00001 # Шаг сетки\n",
    "# abs_length = step_number * step_length  #  Длина отрезка, на котором считаем решение\n",
    "# one_steps = int(1.0 / step_length)  # Длина единицы в шагах\n",
    "# start_length = h.max()\n",
    "# start_steps = int(one_steps * start_length)"
   ]
  },
  {
   "cell_type": "code",
   "execution_count": 272,
   "id": "cdb2ccd2-f6c3-4564-9b77-1e76b4ca4e0c",
   "metadata": {
    "tags": []
   },
   "outputs": [
    {
     "data": {
      "text/plain": [
       "array([ 99999, 180098, 360196])"
      ]
     },
     "execution_count": 272,
     "metadata": {},
     "output_type": "execute_result"
    }
   ],
   "source": [
    "# # Дискретные запаздывания.\n",
    "# lags = (np.array(h) * one_steps).astype(int)\n",
    "# lags"
   ]
  },
  {
   "cell_type": "code",
   "execution_count": 27,
   "id": "a5b3b4f4-48b5-435b-9711-dc91648662c5",
   "metadata": {},
   "outputs": [],
   "source": [
    "solutions = dict()"
   ]
  },
  {
   "cell_type": "code",
   "execution_count": 39,
   "id": "0f553c96-efa9-4fe2-9d94-82192c4150a3",
   "metadata": {},
   "outputs": [
    {
     "name": "stdout",
     "output_type": "stream",
     "text": [
      "100.0\n",
      "................................................................................................\n"
     ]
    }
   ],
   "source": [
    "for g in [100.0]:    \n",
    "    print(g)\n",
    "    \n",
    "    # Решения для разных генераторов\n",
    "    solutions[g] = [np.zeros(step_number) for i in range(m + 1)]\n",
    "    \n",
    "    # Задаём начальные условия для всех генераторов\n",
    "    for i in range(m + 1):\n",
    "        solutions[g][i][:start_steps] = initial_solution[lags[i] - lags[0]: start_steps + lags[i] - lags[0]]\n",
    "        \n",
    "    for i in range(start_steps, step_number):\n",
    "        if (i % 100000 == 0):\n",
    "            print('.', end='')\n",
    "        for j in range(m + 1):\n",
    "            a_j = solutions[g][j][i - one_steps - 1] + np.sum([solutions[g][gen][i - 1] for gen in range(m + 1)]) - solutions[g][j][i - 1]\n",
    "            du_j = -beta * solutions[g][j][i - 1] + alpha * a_j / (1 + np.power(a_j, g))\n",
    "            solutions[g][j][i] = solutions[g][j][i - 1] + du_j * step_length\n",
    "            \n",
    "    print()"
   ]
  },
  {
   "cell_type": "code",
   "execution_count": 29,
   "id": "917bb708-018e-42df-ad67-68316294a25c",
   "metadata": {},
   "outputs": [
    {
     "data": {
      "text/plain": [
       "<matplotlib.legend.Legend at 0x1cfb26be260>"
      ]
     },
     "execution_count": 29,
     "metadata": {},
     "output_type": "execute_result"
    }
   ],
   "source": [
    "plt.figure()\n",
    "plt.title(r'$\\alpha={0:.2f}, \\beta={1:.2f}, m = {2}$'.format(alpha, beta, m))\n",
    "plt.plot(np.arange(-start_length, abs_length - start_length, step_length)[1000000:3000000][::10], limit_solutions[0][1000000:3000000][::10], '-', color='k', lw=1, label=r'$u_0(t)$')\n",
    "plt.plot(np.arange(-start_length, abs_length - start_length, step_length)[1000000:3000000][::10], limit_solutions[1][1000000:3000000][::10], '-', color='r', lw=1, label=r'$u_1(t)$')\n",
    "plt.plot(np.arange(-start_length, abs_length - start_length, step_length)[1000000:3000000][::10], limit_solutions[2][1000000:3000000][::10], '-', color='b', lw=1, label=r'$u_2(t)$')\n",
    "plt.ylim(0, 2.5)\n",
    "plt.xlabel(r'$t$')\n",
    "plt.legend()"
   ]
  },
  {
   "cell_type": "code",
   "execution_count": 30,
   "id": "85229646-ac08-493e-9d84-490fbcd85f36",
   "metadata": {},
   "outputs": [
    {
     "data": {
      "text/plain": [
       "<matplotlib.legend.Legend at 0x1cfbb8574f0>"
      ]
     },
     "execution_count": 30,
     "metadata": {},
     "output_type": "execute_result"
    }
   ],
   "source": [
    "plt.figure()\n",
    "plt.title(r'$\\alpha={0:.2f}, \\beta={1:.2f}, m = {2}$'.format(alpha, beta, m))\n",
    "plt.plot(np.arange(-start_length, abs_length - start_length, step_length)[1000000:3000000][::10], solutions[g_list[1]][0][1000000:3000000][::10], '-', color='k', lw=1, label=r'$u_0(t)$')\n",
    "plt.plot(np.arange(-start_length, abs_length - start_length, step_length)[1000000:3000000][::10], solutions[g_list[1]][1][1000000:3000000][::10], '-', color='r', lw=1, label=r'$u_1(t)$')\n",
    "plt.plot(np.arange(-start_length, abs_length - start_length, step_length)[1000000:3000000][::10], solutions[g_list[1]][2][1000000:3000000][::10], '-', color='b', lw=1, label=r'$u_2(t)$')\n",
    "plt.ylim(0, 2.5)\n",
    "plt.xlabel(r'$t$')\n",
    "plt.legend()"
   ]
  },
  {
   "cell_type": "code",
   "execution_count": 31,
   "id": "ad22f279-1616-4362-a291-59e2b29a3b7c",
   "metadata": {},
   "outputs": [
    {
     "data": {
      "text/plain": [
       "<matplotlib.legend.Legend at 0x1cfbb8eff70>"
      ]
     },
     "execution_count": 31,
     "metadata": {},
     "output_type": "execute_result"
    }
   ],
   "source": [
    "plt.figure()\n",
    "plt.title(r'$\\alpha={0:.2f}, \\beta={1:.2f}, m = {2}$'.format(alpha, beta, m))\n",
    "\n",
    "plt.plot(np.arange(-start_length, abs_length - start_length, step_length)[0:3000000][::10], solutions[g_list[1]][0][0:3000000][::10], '-', color='k', lw=1, label=r'$u_0(t)$')\n",
    "plt.plot(np.arange(-start_length, abs_length - start_length, step_length)[0:3000000][::10], solutions[g_list[1]][1][0:3000000][::10], '-', color='r', lw=1, label=r'$u_1(t)$')\n",
    "plt.plot(np.arange(-start_length, abs_length - start_length, step_length)[0:3000000][::10], solutions[g_list[1]][2][0:3000000][::10], '-', color='b', lw=1, label=r'$u_2(t)$')\n",
    "\n",
    "plt.plot(np.arange(-start_length, abs_length - start_length, step_length)[0:3000000][::10], limit_solutions[0][0:3000000][::10], '--', dashes= (10, 4), color='k', lw=1)\n",
    "plt.plot(np.arange(-start_length, abs_length - start_length, step_length)[0:3000000][::10], limit_solutions[1][0:3000000][::10], '--', dashes= (10, 4), color='r', lw=1)\n",
    "plt.plot(np.arange(-start_length, abs_length - start_length, step_length)[0:3000000][::10], limit_solutions[2][0:3000000][::10], '--', dashes= (10, 4), color='b', lw=1)\n",
    "\n",
    "plt.ylim(0, 2.5)\n",
    "plt.xlim(0, 20)\n",
    "plt.xlabel(r'$t$')\n",
    "plt.legend(loc='upper right')"
   ]
  },
  {
   "cell_type": "code",
   "execution_count": 32,
   "id": "3c8a3098-706b-4029-afca-6f1f49f7d8b8",
   "metadata": {},
   "outputs": [],
   "source": [
    "from mpl_toolkits.mplot3d.art3d import Line3DCollection"
   ]
  },
  {
   "cell_type": "code",
   "execution_count": 42,
   "id": "a83af33a-34af-4061-b775-768c712a366f",
   "metadata": {},
   "outputs": [
    {
     "data": {
      "text/plain": [
       "<matplotlib.legend.Legend at 0x1cfb3f6add0>"
      ]
     },
     "execution_count": 42,
     "metadata": {},
     "output_type": "execute_result"
    }
   ],
   "source": [
    "# Для первых трёх генераторов нарисуем фазовую траекторию (3D)\n",
    "fig = plt.figure()\n",
    "ax = fig.add_subplot(projection='3d')\n",
    "# ax.set_title(r'$\\alpha={0:.2f}, \\beta={1:.2f}, m = {2}$'.format(alpha, beta, m))\n",
    "ax.set_title(r'$a={0:.2f}, b={1:.2f}, m = {2}$'.format(alpha, beta, m))\n",
    "\n",
    "# Длина установочного отрезка\n",
    "L = 1000000\n",
    "Lmax = 20000000\n",
    "\n",
    "# l1 = [(0, 0, 0), (0, 0, 2)]\n",
    "# l2 = [(0, 0, 0), (0, 2, 0)]\n",
    "# l3 = [(0, 0, 0), (2, 0, 0)]\n",
    "# lc = Line3DCollection([l1, l2, l3], color='k', lw=1)\n",
    "\n",
    "# plt.gca().add_collection(lc)\n",
    "\n",
    "ax.w_xaxis.set_pane_color((1.0, 1.0, 1.0, 1.0))\n",
    "ax.w_yaxis.set_pane_color((1.0, 1.0, 1.0, 1.0))\n",
    "ax.w_zaxis.set_pane_color((1.0, 1.0, 1.0, 1.0))\n",
    "\n",
    "ax.plot(limit_solutions[0][L:Lmax:10], limit_solutions[1][L:Lmax:10], limit_solutions[2][L:Lmax:10], '-k', lw=4, label='Limit')\n",
    "\n",
    "# ax.plot(s[0][:l][::20], s[1][:l][::20], s[2][:l][::20], '--k', lw=1)\n",
    "for g in [10]:\n",
    "    # ax.plot(solutions[g][0][L:Lmax][::20], solutions[g][1][L:Lmax][::20], solutions[g][2][L:Lmax][::20], '-', lw=1.0, color=next(colors), label='{0:.1f}'.format(g))\n",
    "    ax.plot(solutions[g][0][L:Lmax][::10], solutions[g][1][L:Lmax][::10], solutions[g][2][L:Lmax][::10], '-r', lw=1.0, label='{0:.1f}'.format(g))\n",
    "\n",
    "ax.set_xlabel(r'$u_1(t)$')\n",
    "ax.set_ylabel(r'$u_2(t)$')\n",
    "ax.set_zlabel(r'$u_3(t)$')\n",
    "\n",
    "ax.set_xticks([0, 0.5, 1.0, 1.5])\n",
    "ax.set_yticks([0, 0.5, 1.0, 1.5])\n",
    "ax.set_zticks([0, 0.5, 1.0, 1.5])\n",
    "\n",
    "ax.set_xticklabels([r'$0$', \"\", \"\", r'$1.5$'])\n",
    "ax.set_yticklabels([r'$0$', \"\", \"\", r'$1.5$'])\n",
    "ax.set_zticklabels([r'$0$', \"\", \"\", r'$1.5$'])\n",
    "\n",
    "ax.set_xlim(0.0, 1.8)\n",
    "ax.set_ylim(0.0, 1.8)\n",
    "ax.set_zlim(0.0, 1.8)\n",
    "\n",
    "ax.view_init(30, 45)\n",
    "\n",
    "plt.legend()"
   ]
  },
  {
   "cell_type": "code",
   "execution_count": 395,
   "id": "8e6d46c4-931d-4d3d-ae22-d8a348434429",
   "metadata": {},
   "outputs": [
    {
     "data": {
      "text/plain": [
       "[<mpl_toolkits.mplot3d.art3d.Line3D at 0x1eae5245d50>]"
      ]
     },
     "execution_count": 395,
     "metadata": {},
     "output_type": "execute_result"
    }
   ],
   "source": [
    "ax.plot(limit_solutions[0][1000000:Lmax], limit_solutions[1][1000000:Lmax], limit_solutions[2][1000000:Lmax], '-k', lw=2, label='Limit')"
   ]
  },
  {
   "cell_type": "markdown",
   "id": "1c882057-9c40-4fcf-a3d9-5db64d9cb967",
   "metadata": {},
   "source": [
    "## Посмотрим область параметров, при которой значение $u_0$ принимается на $(t_1, t_2)$."
   ]
  },
  {
   "cell_type": "code",
   "execution_count": 148,
   "id": "77dcaef1-de9f-452f-b98e-d4fdb29afa36",
   "metadata": {},
   "outputs": [],
   "source": [
    "def A(a, b, h):\n",
    "    return np.log(a / b) < 1.0\n",
    "\n",
    "def B(a, b, h):\n",
    "    return b * h <= -np.log(a / b) - np.log(1 - np.log(a / b))\n",
    "\n",
    "def C(a, b, h):\n",
    "    return h < 0.5\n",
    "\n",
    "def D(a, b, h):\n",
    "    return np.sinh(b * h) * 2 < a * h\n",
    "\n",
    "def E(a, b, h):\n",
    "    return np.log(a / b) < b * h\n",
    "      \n",
    "def F(a, b, h):\n",
    "    return np.exp(b) - 1 < a * (1 - h) * np.exp(b * h)\n",
    "\n",
    "def G(a, b, h):\n",
    "    return np.log(a / b) < b * (1 - h)   "
   ]
  },
  {
   "cell_type": "code",
   "execution_count": 149,
   "id": "0ddde316-3c15-4e50-94fd-f35020549f47",
   "metadata": {},
   "outputs": [],
   "source": [
    "def check_conditions(a, b, h):\n",
    "    return A(a, b, h) & B(a, b, h) & (C(a, b, h) & (D(a, b, h) | ~(D(a, b, h)) & E(a, b, h)) | (~(C(a, b, h)) & (F(a, b, h) | ~(F(a, b, h)) & G(a, b, h)))) |\\\n",
    "            ~(A(a, b, h)) & (C(a, b, h) & (D(a, b, h) | ~(D(a, b, h)) & E(a, b, h)) | (~(C(a, b, h)) & (F(a, b, h) | ~(F(a, b, h)) & G(a, b, h))))"
   ]
  },
  {
   "cell_type": "code",
   "execution_count": 150,
   "id": "31bcc285-f055-4d33-ab7a-2c2de44b08a6",
   "metadata": {},
   "outputs": [],
   "source": [
    "a, b, h = np.arange(1, 25, 0.1), np.arange(3, 10, 0.1), np.arange(0.01, 0.99, 0.01)"
   ]
  },
  {
   "cell_type": "code",
   "execution_count": 151,
   "id": "0913e0df-2887-4184-bc3f-e5e758e2aff2",
   "metadata": {},
   "outputs": [],
   "source": [
    "aa, bb, hh = np.meshgrid(a, b, h, indexing='ij') "
   ]
  },
  {
   "cell_type": "code",
   "execution_count": 152,
   "id": "a3dbea54-e5db-4754-ba68-245020c862d6",
   "metadata": {},
   "outputs": [
    {
     "name": "stderr",
     "output_type": "stream",
     "text": [
      "C:\\Users\\thekindbeetle\\AppData\\Local\\Temp\\ipykernel_6348\\568227054.py:5: RuntimeWarning: invalid value encountered in log\n",
      "  return b * h <= -np.log(a / b) - np.log(1 - np.log(a / b))\n"
     ]
    }
   ],
   "source": [
    "x, y, z = np.where(check_conditions(aa, bb, hh))"
   ]
  },
  {
   "cell_type": "code",
   "execution_count": 153,
   "id": "d0fb0068-061d-488b-9075-0128a64d6342",
   "metadata": {},
   "outputs": [],
   "source": [
    "from mpl_toolkits import mplot3d"
   ]
  },
  {
   "cell_type": "code",
   "execution_count": 154,
   "id": "b288d60f-3175-40ff-9375-b5f9d6499d57",
   "metadata": {},
   "outputs": [
    {
     "data": {
      "text/plain": [
       "<mpl_toolkits.mplot3d.art3d.Path3DCollection at 0x1533e96cdc0>"
      ]
     },
     "execution_count": 154,
     "metadata": {},
     "output_type": "execute_result"
    }
   ],
   "source": [
    "fig = plt.figure()\n",
    " \n",
    "# syntax for 3-D projection\n",
    "ax = plt.axes(projection ='3d')\n",
    "\n",
    "ax.scatter(a[x], b[y], h[z], s=1, color='k')\n",
    "# ax.scatter(delta_array_2, tau_array_2, beta_array_2, s=1, color='b')"
   ]
  },
  {
   "cell_type": "markdown",
   "id": "f88a9e25-f4ce-4b02-a021-a559b6d3c1ce",
   "metadata": {},
   "source": [
    "### 2D при фиксированном $\\alpha$."
   ]
  },
  {
   "cell_type": "code",
   "execution_count": 155,
   "id": "04fb0606-69ea-4c07-ace6-f5fb9e888c71",
   "metadata": {},
   "outputs": [],
   "source": [
    "a = 20.0\n",
    "b = np.arange(0.1, 100, 0.1)\n",
    "h = np.arange(0.001, 0.99, 0.0001)"
   ]
  },
  {
   "cell_type": "code",
   "execution_count": 156,
   "id": "db63a551-23b7-4b00-b1e0-2c5998230aae",
   "metadata": {},
   "outputs": [],
   "source": [
    "bb, hh = np.meshgrid(b, h, indexing='ij') "
   ]
  },
  {
   "cell_type": "code",
   "execution_count": 157,
   "id": "be14b633-dc64-4dba-aa05-76a1cdc9137b",
   "metadata": {},
   "outputs": [
    {
     "name": "stderr",
     "output_type": "stream",
     "text": [
      "C:\\Users\\thekindbeetle\\AppData\\Local\\Temp\\ipykernel_6348\\568227054.py:5: RuntimeWarning: invalid value encountered in log\n",
      "  return b * h <= -np.log(a / b) - np.log(1 - np.log(a / b))\n"
     ]
    }
   ],
   "source": [
    "x, y = np.where(check_conditions(a, bb, hh))"
   ]
  },
  {
   "cell_type": "code",
   "execution_count": 158,
   "id": "a83e7722-e552-4e6a-a074-e46b8a7b05ae",
   "metadata": {},
   "outputs": [
    {
     "data": {
      "text/plain": [
       "<matplotlib.collections.PathCollection at 0x15346addf60>"
      ]
     },
     "execution_count": 158,
     "metadata": {},
     "output_type": "execute_result"
    }
   ],
   "source": [
    "plt.figure()\n",
    "plt.scatter(b[x], h[y], s=1, color='k')"
   ]
  },
  {
   "cell_type": "markdown",
   "id": "b81a9eb1-75bd-49b0-9c34-9a1afe31b89d",
   "metadata": {
    "jp-MarkdownHeadingCollapsed": true,
    "tags": []
   },
   "source": [
    "## Старый код"
   ]
  },
  {
   "cell_type": "code",
   "execution_count": null,
   "id": "86f8d39f-3081-4f37-be8d-3c647c877337",
   "metadata": {},
   "outputs": [
    {
     "data": {
      "text/plain": [
       "[1.6487212707001282, 2.117000016612675, 2.398875293967098, 2.553589458062927]"
      ]
     },
     "execution_count": 25,
     "metadata": {},
     "output_type": "execute_result"
    }
   ],
   "source": [
    "list(map(np.exp, h))"
   ]
  },
  {
   "cell_type": "code",
   "execution_count": 8,
   "id": "4139d456-32fc-4252-84e2-df58f1fde9ec",
   "metadata": {},
   "outputs": [
    {
     "data": {
      "text/plain": [
       "8.718186039342829"
      ]
     },
     "execution_count": 8,
     "metadata": {},
     "output_type": "execute_result"
    }
   ],
   "source": [
    "A(2, h)"
   ]
  },
  {
   "cell_type": "markdown",
   "id": "9c67899b-8e3e-4c4f-a1dc-140033e945b5",
   "metadata": {},
   "source": [
    "$t_0$ определяется из соотношения $e^{\\beta t_0} = \\frac{u_0}{A}.$ Отсюда\n",
    "$$t_0 = \\dfrac{1}{\\beta}\\ln\\dfrac{u_0}{A}.$$"
   ]
  },
  {
   "cell_type": "markdown",
   "id": "be656030-0181-4536-8f65-06392ab2f02c",
   "metadata": {},
   "source": [
    "Мы знаем, что $t_0 > 1$ (если $u_0 > 1$). Может пригодиться для оценок."
   ]
  },
  {
   "cell_type": "code",
   "execution_count": 10,
   "id": "4879be46-a1c4-4eb0-b7fc-9431d040a5f2",
   "metadata": {},
   "outputs": [],
   "source": [
    "# Первая точка переключения\n",
    "def t0(u0, beta, h, delta, m):\n",
    "    return np.power(beta, -1) * (np.log(u0) - np.log(A(beta, h, delta, m)))"
   ]
  },
  {
   "cell_type": "code",
   "execution_count": 11,
   "id": "76d19680-4bca-42ea-8853-5e16e861a738",
   "metadata": {},
   "outputs": [
    {
     "data": {
      "text/plain": [
       "0.25"
      ]
     },
     "execution_count": 11,
     "metadata": {},
     "output_type": "execute_result"
    }
   ],
   "source": [
    "# Проверим: при beta = ln(2), h = 0, m = 1, delta = 1 должна получаться 1/4.\n",
    "A(np.log(2), 0, 1, 1)"
   ]
  },
  {
   "cell_type": "code",
   "execution_count": 12,
   "id": "518bf1b2-f3d2-46aa-937d-7b87b5bec5a3",
   "metadata": {},
   "outputs": [
    {
     "data": {
      "text/plain": [
       "2.9999999999999996"
      ]
     },
     "execution_count": 12,
     "metadata": {},
     "output_type": "execute_result"
    }
   ],
   "source": [
    "# Проверим: при u = 2.0, beta = ln(2), h = 0, m = 1, delta = 1 должно быть t_0 = 3.\n",
    "t0(2.0, np.log(2), 0, 1, 1)"
   ]
  },
  {
   "cell_type": "code",
   "execution_count": 172,
   "id": "bcae5ab0-c9e2-41bc-a771-a32373a3ab86",
   "metadata": {},
   "outputs": [
    {
     "name": "stdout",
     "output_type": "stream",
     "text": [
      "7 1.2 -0.35\n"
     ]
    }
   ],
   "source": [
    "m = 7\n",
    "delta = -0.35\n",
    "h = 1.2\n",
    "print(m, h, delta)"
   ]
  },
  {
   "cell_type": "code",
   "execution_count": 18,
   "id": "b73280c4-4bfa-48f7-99ba-a2cba9dbbf41",
   "metadata": {},
   "outputs": [
    {
     "data": {
      "text/plain": [
       "1.1232785369106841"
      ]
     },
     "execution_count": 18,
     "metadata": {},
     "output_type": "execute_result"
    }
   ],
   "source": [
    "u0 = 1.5\n",
    "beta = 10.0\n",
    "t0(u0, beta, h, delta, m)"
   ]
  },
  {
   "cell_type": "code",
   "execution_count": 19,
   "id": "55ebcae2-e0cf-462e-9356-2d9ef72ddcc4",
   "metadata": {},
   "outputs": [
    {
     "data": {
      "text/plain": [
       "[<matplotlib.lines.Line2D at 0x200af13a760>]"
      ]
     },
     "execution_count": 19,
     "metadata": {},
     "output_type": "execute_result"
    },
    {
     "data": {
      "image/png": "[encoded data removed]",
      "text/plain": [
       "<Figure size 432x288 with 1 Axes>"
      ]
     },
     "metadata": {
      "needs_background": "light"
     },
     "output_type": "display_data"
    }
   ],
   "source": [
    "beta = np.arange(0.001, 10, 0.001)\n",
    "plt.plot(beta, A(beta, h, delta, m), '-k')"
   ]
  },
  {
   "cell_type": "markdown",
   "id": "d1037c63-0440-44d8-a969-5cddc3bda2de",
   "metadata": {},
   "source": [
    "Введём функцию $u$ в зависимости от времени (она меняется при прохождении запаздываний и точек переключения)."
   ]
  },
  {
   "cell_type": "code",
   "execution_count": 136,
   "id": "bd44f947-4485-41be-8d78-38e215e01b5e",
   "metadata": {},
   "outputs": [],
   "source": [
    "# На отрезке [0; t_0], где t_0 - точка первого переключения\n",
    "def U1(t, u0, beta):\n",
    "    return np.exp(-beta * t) * u0\n",
    "\n",
    "# На отрезке [t_0; t_0 + h + delta] - до первого запаздывания\n",
    "# alpha - параметр, t0 считается выше\n",
    "def U2(t, u0, beta, h, delta, m, alpha, t0):\n",
    "    return np.exp(-beta * t) * u0 * (alpha * Ainv(beta, h, delta, m) * (t - t0) + 1)\n",
    "\n",
    "# На отрезке [t_0 + h + delta; t1] - до второй точки переключения\n",
    "def U3(t, u0, beta, h, delta, m, alpha, t0):\n",
    "    return np.exp(-beta * (t - t0)) * (alpha * alpha * 0.5 * np.exp(beta * (h + delta)) * np.power(t - h - delta - t0, 2) +\\\n",
    "                                       alpha * (t - t0) + A(beta, h, delta, m))\n",
    "\n",
    "# На отрезке [t_1; t_1 + h + 2delta] - до второго запаздывания\n",
    "def U4(t, u_wave, beta, t1):\n",
    "    return np.exp(-beta * (t - t1)) * u_wave"
   ]
  },
  {
   "cell_type": "markdown",
   "id": "3594aa54-9183-4e0f-aa39-368785426666",
   "metadata": {},
   "source": [
    "Будем строить постепенно"
   ]
  },
  {
   "cell_type": "code",
   "execution_count": 695,
   "id": "43dfd975-1b7a-4df4-be45-6f2438bc67c5",
   "metadata": {},
   "outputs": [
    {
     "name": "stdout",
     "output_type": "stream",
     "text": [
      "u0 = 1.0001\n",
      "m = 3\n",
      "beta = 5.00\n",
      "h = -0.405\n",
      "Delta = 0.450\n",
      "Запаздывания: [0.044999999999999984, 0.495, 0.9450000000000001]\n"
     ]
    }
   ],
   "source": [
    "u0 = 1.0001\n",
    "m = 3\n",
    "delta = 0.9 / (m - 1)\n",
    "h = -delta * 0.9\n",
    "beta = 5.0\n",
    "print('u0 = {0}'.format(u0))\n",
    "print('m = {0}'.format(m))\n",
    "print('beta = {0:.2f}'.format(beta))\n",
    "print('h = {0:.3f}'.format(h))\n",
    "print('Delta = {0:.3f}'.format(delta))\n",
    "print('Запаздывания: {0}'.format([h + i * delta for i in range(1, m + 1)]))"
   ]
  },
  {
   "cell_type": "code",
   "execution_count": 685,
   "id": "3ea6af1c-f77a-4860-8a84-341b6eec2337",
   "metadata": {},
   "outputs": [
    {
     "name": "stdout",
     "output_type": "stream",
     "text": [
      "1.8\n"
     ]
    }
   ],
   "source": [
    "# Максимальное значение T_0\n",
    "print((m + 1) * delta)"
   ]
  },
  {
   "cell_type": "markdown",
   "id": "bbedd86c-5a63-4227-b612-62d551069892",
   "metadata": {},
   "source": [
    "Строим до первой точки переключения."
   ]
  },
  {
   "cell_type": "code",
   "execution_count": 591,
   "id": "7f326443-768a-4f44-89fa-59d27f9b4abd",
   "metadata": {},
   "outputs": [
    {
     "data": {
      "text/plain": [
       "1.122848209101636"
      ]
     },
     "execution_count": 591,
     "metadata": {},
     "output_type": "execute_result"
    }
   ],
   "source": [
    "t_0 = t0(u0, beta, h, delta, m)\n",
    "t_0"
   ]
  },
  {
   "cell_type": "code",
   "execution_count": 592,
   "id": "af2eb7a6-5555-4f98-bd49-b233a3691c8d",
   "metadata": {},
   "outputs": [
    {
     "data": {
      "text/plain": [
       "[<matplotlib.lines.Line2D at 0x200e4fa34c0>]"
      ]
     },
     "execution_count": 592,
     "metadata": {},
     "output_type": "execute_result"
    }
   ],
   "source": [
    "t = np.arange(0, t_0, 0.001)\n",
    "plt.plot(t, U1(t, u0, beta), '-k')"
   ]
  },
  {
   "cell_type": "markdown",
   "id": "310d0b2d-06c2-49ff-ab1b-dd1c90dba3a5",
   "metadata": {},
   "source": [
    "Продлим до первого запаздывания $h + \\Delta$.<br>\n",
    "На $\\alpha$ у нас есть ограничение:\n",
    "$$\\alpha > \\dfrac{e^{\\beta(h + 2\\Delta)} - 1}{e^{\\beta(h + \\Delta)} \\cdot \\Delta}$$"
   ]
  },
  {
   "cell_type": "code",
   "execution_count": 593,
   "id": "1e1f2355-fc1b-4619-9f7b-811ab0c918d5",
   "metadata": {},
   "outputs": [
    {
     "data": {
      "text/plain": [
       "19.309376927998116"
      ]
     },
     "execution_count": 593,
     "metadata": {},
     "output_type": "execute_result"
    }
   ],
   "source": [
    "min_alpha = (np.exp(beta * (h + 2 * delta)) - 1) / np.exp(beta * (h + delta)) / delta\n",
    "min_alpha"
   ]
  },
  {
   "cell_type": "markdown",
   "id": "f802fbd1-ca79-4a6c-8381-21c602d363bd",
   "metadata": {},
   "source": [
    "И ещё одно ограничение:\n",
    "$$\\alpha > \\dfrac{u_0^2 e^{2\\beta(h + \\Delta + 1)} - 2A e^{\\beta (h + \\Delta)} + 1}{2 (h + \\Delta) e^{\\beta (h + \\Delta)}}$$"
   ]
  },
  {
   "cell_type": "code",
   "execution_count": 594,
   "id": "ea5915a0-fc82-412d-8cd5-403e9bbcb2bc",
   "metadata": {},
   "outputs": [
    {
     "data": {
      "text/plain": [
       "306561.68690150126"
      ]
     },
     "execution_count": 594,
     "metadata": {},
     "output_type": "execute_result"
    }
   ],
   "source": [
    "min_alpha2 = (u0 ** 2 * np.exp(2 * beta * (h + delta + 1)) - 2 * A(beta, h, delta, m) * np.exp(beta * (h + delta)) + 1) / (2 * (h + delta) * np.exp(beta * (h + delta)))\n",
    "min_alpha2"
   ]
  },
  {
   "cell_type": "code",
   "execution_count": 674,
   "id": "7626d268-9f5f-4215-9e91-4087c9839a8a",
   "metadata": {},
   "outputs": [],
   "source": [
    "alpha = 300.0"
   ]
  },
  {
   "cell_type": "code",
   "execution_count": 675,
   "id": "8a88470d-ae4c-43b6-bf89-beda97616f9b",
   "metadata": {},
   "outputs": [
    {
     "data": {
      "text/plain": [
       "[<matplotlib.lines.Line2D at 0x200f19e0a00>]"
      ]
     },
     "execution_count": 675,
     "metadata": {},
     "output_type": "execute_result"
    }
   ],
   "source": [
    "plt.figure()\n",
    "t = np.arange(0, t_0, 0.001)\n",
    "plt.plot(t, U1(t, u0, beta), '-k')\n",
    "t = np.arange(t_0, t_0 + h + delta, 0.001)\n",
    "plt.plot(t, U2(t, u0, beta, h, delta, m, alpha, t_0), '-k')"
   ]
  },
  {
   "cell_type": "markdown",
   "id": "032d6264-a3fb-417a-bd6f-8401b43595da",
   "metadata": {},
   "source": [
    "Теперь мы ищем корень уравнения $$e^{\\beta(h + \\Delta)} \\cdot \\alpha (t - h - \\Delta - t_0) + 1 = e^{\\beta(t - t_0)}.$$"
   ]
  },
  {
   "cell_type": "code",
   "execution_count": 676,
   "id": "986ba0b1-e3d6-4fcc-bd0c-e7225740b56b",
   "metadata": {},
   "outputs": [],
   "source": [
    "def eq_t1(x):\n",
    "    return np.exp(beta * (h + delta)) * alpha * (x - h - delta - t_0) - np.exp(beta * (x - t_0)) + 1"
   ]
  },
  {
   "cell_type": "markdown",
   "id": "e31a9671-5cd7-4c3d-b78f-7bbf1943da34",
   "metadata": {},
   "source": [
    "Корень должен лежать в промежутке $[t_0 + h + \\Delta, t_0 + h + 2\\Delta]$."
   ]
  },
  {
   "cell_type": "code",
   "execution_count": 677,
   "id": "75b9ea35-193f-444f-9366-4cb6728ab2c9",
   "metadata": {},
   "outputs": [
    {
     "name": "stdout",
     "output_type": "stream",
     "text": [
      "Ищем корень на отрезке [1.167848,1.617848]\n",
      "Нашли корень 1.168531\n"
     ]
    }
   ],
   "source": [
    "print('Ищем корень на отрезке [{0:.6f},{1:.6f}]'.format(t_0 + h + delta, t_0 + h + 2 * delta))\n",
    "t_1 = scipy.optimize.fsolve(eq_t1, x0=t_0 + h + 1.5 * delta)[0]\n",
    "print('Нашли корень {0:.6f}'.format(t_1))"
   ]
  },
  {
   "cell_type": "code",
   "execution_count": 678,
   "id": "1646a092-8ec1-468d-a62e-2d1f1aaca1f6",
   "metadata": {},
   "outputs": [
    {
     "data": {
      "text/plain": [
       "[<matplotlib.lines.Line2D at 0x200f1a5e760>]"
      ]
     },
     "execution_count": 678,
     "metadata": {},
     "output_type": "execute_result"
    }
   ],
   "source": [
    "# Проверим, что корень найден корректно.\n",
    "t = np.arange(t_0, t_0 + h + 3 * delta, 0.001)\n",
    "plt.figure()\n",
    "plt.plot(t, eq_t1(t), '-k')\n",
    "plt.plot([t_0 + h + delta, t_0 + h + delta], [eq_t1(t_0), eq_t1(t_0 + h + 3 * delta)], '--k')\n",
    "plt.plot([t_0 + h + 2 * delta, t_0 + h + 2 * delta], [eq_t1(t_0), eq_t1(t_0 + h + 3 * delta)], '--k')\n",
    "plt.plot([t_0, t_0 + h + 3 * delta], [0, 0], '--k')\n",
    "plt.plot([t_1], [eq_t1(t_1)], 'or', ms=6)"
   ]
  },
  {
   "cell_type": "markdown",
   "id": "8af6c3e8-5ac1-42ce-9c6f-ce775fe0aa34",
   "metadata": {},
   "source": [
    "Достраиваем на отрезке $[t_0 + h + \\Delta; t_1]$."
   ]
  },
  {
   "cell_type": "code",
   "execution_count": 681,
   "id": "5db9ddd6-6d86-4f41-a069-0ad57165e64c",
   "metadata": {},
   "outputs": [
    {
     "data": {
      "text/plain": [
       "[<matplotlib.lines.Line2D at 0x200f5e317f0>]"
      ]
     },
     "execution_count": 681,
     "metadata": {},
     "output_type": "execute_result"
    }
   ],
   "source": [
    "plt.figure()\n",
    "\n",
    "t = np.arange(0, t_0, 0.001)\n",
    "plt.plot(t, U1(t, u0, beta), '-k')\n",
    "plt.plot([t_0, t_0], [0, U1(t_0, u0, beta)], '--k')\n",
    "\n",
    "t = np.arange(t_0, t_0 + h + delta, 0.00001)\n",
    "plt.plot(t, U2(t, u0, beta, h, delta, m, alpha, t_0), '-k')\n",
    "plt.plot([t_0 + h + delta, t_0 + h + delta], [0, U2(t_0 + h + delta, u0, beta, h, delta, m, alpha, t_0)], '--k')\n",
    "\n",
    "t = np.arange(t_0 + h + delta, t_1, 0.000001)\n",
    "u_wave = U3(t_1, u0, beta, h, delta, m, alpha, t_0)\n",
    "plt.plot(t, U3(t, u0, beta, h, delta, m, alpha, t_0), '-k')\n",
    "plt.plot([t_1, t_1], [0, u_wave], '--k')"
   ]
  },
  {
   "cell_type": "markdown",
   "id": "c1968194-b509-4ff5-bf63-dc02c9eccff0",
   "metadata": {},
   "source": [
    "Вычислим третью точку переключения $t_2$ (она должна быть достаточно далеко, чтобы $t_2 - t_1 > 1$)."
   ]
  },
  {
   "cell_type": "markdown",
   "id": "94d4e14d-2132-45df-b3f4-78839e333cf7",
   "metadata": {},
   "source": [
    "$$t_2 = \\dfrac{1}{\\beta}\\ln\\dfrac{\\hat{u}}{A} + t_1, \\text{ где } \\hat{u} = u(t_1).$$"
   ]
  },
  {
   "cell_type": "code",
   "execution_count": 682,
   "id": "6ee5cd11-e9a4-491d-8473-ae97e3af55cf",
   "metadata": {},
   "outputs": [
    {
     "name": "stdout",
     "output_type": "stream",
     "text": [
      "1.6011323373739021\n"
     ]
    }
   ],
   "source": [
    "t_2 = np.power(beta, -1) * (np.log(u_wave) - np.log(A(beta, h, delta, m))) + t_1\n",
    "print(t_2 - t_1)\n",
    "\n",
    "if (t_2 - t_1) < 1:\n",
    "    print('Ошибка: значение t_2 - t_1 должно быть больше 1.')"
   ]
  },
  {
   "cell_type": "markdown",
   "id": "f5260e62-2777-4c6a-b2dc-06b5ea41ba85",
   "metadata": {},
   "source": [
    "Теперь найдём $T_0$ - корень уравнения $u(t) = u_0$, лежащий в $(t_1, t_2)$ - ради этого всё и затевалось."
   ]
  },
  {
   "cell_type": "markdown",
   "id": "99705a99-f09d-428e-877d-d1f62d74e07f",
   "metadata": {},
   "source": [
    "$$T_0 = \\dfrac{1}{\\beta}\\ln\\dfrac{\\hat{u}}{A} - t_0 + t_1.$$"
   ]
  },
  {
   "cell_type": "code",
   "execution_count": 683,
   "id": "dc73738b-87f8-4e90-bc70-cca9c0f32bd0",
   "metadata": {},
   "outputs": [
    {
     "data": {
      "text/plain": [
       "1.6468153530324252"
      ]
     },
     "execution_count": 683,
     "metadata": {},
     "output_type": "execute_result"
    }
   ],
   "source": [
    "T_0 = np.power(beta, -1) * (np.log(u_wave) - np.log(A(beta, h, delta, m))) - t_0 + t_1\n",
    "T_0"
   ]
  },
  {
   "cell_type": "markdown",
   "id": "73ecf06c-e291-4437-b66c-5d5edd722280",
   "metadata": {},
   "source": [
    "Построим полную картину решения."
   ]
  },
  {
   "cell_type": "code",
   "execution_count": 694,
   "id": "4443c225-1efa-4b6e-a825-13971f9b241a",
   "metadata": {},
   "outputs": [
    {
     "data": {
      "text/plain": [
       "[<matplotlib.lines.Line2D at 0x200f6e18190>]"
      ]
     },
     "execution_count": 694,
     "metadata": {},
     "output_type": "execute_result"
    }
   ],
   "source": [
    "# plt.figure()\n",
    "\n",
    "t = np.arange(0, t_0, 0.0001)\n",
    "plt.plot(t, U1(t, u0, beta), '-k')\n",
    "plt.plot([t_0, t_0], [0, U1(t_0, u0, beta)], '--k')\n",
    "\n",
    "t = np.arange(t_0, t_0 + h + delta, 0.0001)\n",
    "plt.plot(t, U2(t, u0, beta, h, delta, m, alpha, t_0), '-k')\n",
    "plt.plot([t_0 + h + delta, t_0 + h + delta], [0, U2(t_0 + h + delta, u0, beta, h, delta, m, alpha, t_0)], '--k')\n",
    "\n",
    "t = np.arange(t_0 + h + delta, t_1, 0.0001)\n",
    "u_wave = U3(t_1, u0, beta, h, delta, m, alpha, t_0)\n",
    "plt.plot(t, U3(t, u0, beta, h, delta, m, alpha, t_0), '-k')\n",
    "plt.plot([t_1, t_1], [0, u_wave], '--k')\n",
    "\n",
    "t = np.arange(t_1, t_2, 0.0001)\n",
    "plt.plot(t, U4(t, u_wave, beta, t_1), '-k')\n",
    "plt.plot([t_2, t_2], [0, u0], '--k')\n",
    "\n",
    "plt.plot([0, t_2], [u0, u0], '--k', lw=2)\n",
    "plt.plot([T_0], [U4(T_0, u_wave, beta, t_1)], 'or', ms=6)"
   ]
  },
  {
   "cell_type": "code",
   "execution_count": 117,
   "id": "4e34e899-c5d4-4703-bb13-b9599da19f63",
   "metadata": {},
   "outputs": [],
   "source": [
    "%matplotlib qt"
   ]
  },
  {
   "cell_type": "code",
   "execution_count": 616,
   "id": "a545866f-d377-4eee-956f-140e9c72c496",
   "metadata": {},
   "outputs": [],
   "source": [
    "def F(x):\n",
    "    return (x < 1).astype(int)"
   ]
  },
  {
   "cell_type": "markdown",
   "id": "699ae2e5-2236-47ca-a588-5a1a4cf176d6",
   "metadata": {},
   "source": [
    "Будем строить линейное приближение решения нашей системы на сетке.<br>\n",
    "Задаём сетку длины 1 с шагом 0.0001 и решение на ней (начальные условия).<br>\n",
    "Продолжаем решение на последующих узлах сетки."
   ]
  },
  {
   "cell_type": "code",
   "execution_count": 665,
   "id": "95a51e84-0ba8-4e89-82e4-e390b5ebde41",
   "metadata": {},
   "outputs": [],
   "source": [
    "alpha = 300.0"
   ]
  },
  {
   "cell_type": "code",
   "execution_count": 686,
   "id": "34ca338f-2fac-4213-992c-91a62c4454a3",
   "metadata": {},
   "outputs": [
    {
     "data": {
      "text/plain": [
       "300.0"
      ]
     },
     "execution_count": 686,
     "metadata": {},
     "output_type": "execute_result"
    }
   ],
   "source": [
    "alpha"
   ]
  },
  {
   "cell_type": "code",
   "execution_count": 687,
   "id": "8da997b8-4156-4418-a597-0730dbe85a36",
   "metadata": {},
   "outputs": [],
   "source": [
    "# Сетка\n",
    "s = np.zeros(100000)"
   ]
  },
  {
   "cell_type": "code",
   "execution_count": 688,
   "id": "b348d29b-8250-45c5-b125-f1007e829215",
   "metadata": {},
   "outputs": [],
   "source": [
    "# Шаг сетки\n",
    "step = 0.0001"
   ]
  },
  {
   "cell_type": "code",
   "execution_count": 689,
   "id": "f6c29746-4fdb-4585-a6cf-5007c8bba94f",
   "metadata": {},
   "outputs": [],
   "source": [
    "# Начальные условия\n",
    "# s[:10000] = U1(np.arange(-1, 0, 0.0001), u0, beta) \n",
    "s[:10000] = u0"
   ]
  },
  {
   "cell_type": "code",
   "execution_count": 690,
   "id": "6b5175f6-99e5-4c86-935e-bd3b5ef23378",
   "metadata": {},
   "outputs": [],
   "source": [
    "# plt.plot(s)"
   ]
  },
  {
   "cell_type": "code",
   "execution_count": 691,
   "id": "f06475c4-e8f8-4c6c-b429-32f8b80d6efc",
   "metadata": {},
   "outputs": [
    {
     "data": {
      "text/plain": [
       "array([  449,  4950,  9450, 10000])"
      ]
     },
     "execution_count": 691,
     "metadata": {},
     "output_type": "execute_result"
    }
   ],
   "source": [
    "# Дискретные запаздывания.\n",
    "lags = np.zeros(m + 1).astype(int)\n",
    "lags[:-1] = (np.array([h + i * delta for i in range(1, m + 1)]) * 10000).astype(int)\n",
    "lags[-1] = 10000\n",
    "lags"
   ]
  },
  {
   "cell_type": "code",
   "execution_count": 692,
   "id": "4b267bbd-0eb3-4e33-8b00-587fa1faa42f",
   "metadata": {
    "tags": []
   },
   "outputs": [
    {
     "name": "stdout",
     "output_type": "stream",
     "text": [
      "21228 1\n",
      "21683 0\n",
      "37686 1\n",
      "38141 0\n",
      "54144 1\n",
      "54599 0\n",
      "70602 1\n",
      "71057 0\n",
      "87060 1\n",
      "87515 0\n"
     ]
    }
   ],
   "source": [
    "# Следим за точками переключения.\n",
    "rezhim = 0\n",
    "for i in range(10000, 100000):\n",
    "    a = np.sum([s[i - lag] for lag in lags])\n",
    "    du = -beta * s[i - 1] + alpha * a * F(a)\n",
    "    if F(a) != rezhim:\n",
    "        rezhim = F(a)\n",
    "        print(i, rezhim)\n",
    "    s[i] = s[i - 1] + du * step"
   ]
  },
  {
   "cell_type": "code",
   "execution_count": 693,
   "id": "d5fd53ca-d817-465a-8ece-dca602d58855",
   "metadata": {},
   "outputs": [
    {
     "data": {
      "text/plain": [
       "[<matplotlib.lines.Line2D at 0x200f6dd6040>]"
      ]
     },
     "execution_count": 693,
     "metadata": {},
     "output_type": "execute_result"
    }
   ],
   "source": [
    "plt.figure()\n",
    "plt.plot(np.arange(-1, 9, step), s, '-', color=(0, 1, 0, 0.5), lw=3)"
   ]
  },
  {
   "cell_type": "code",
   "execution_count": 624,
   "id": "8892446b-7937-4331-9448-dec79f8ab86b",
   "metadata": {},
   "outputs": [
    {
     "data": {
      "text/plain": [
       "[<matplotlib.lines.Line2D at 0x200ea6b2850>]"
      ]
     },
     "execution_count": 624,
     "metadata": {},
     "output_type": "execute_result"
    }
   ],
   "source": [
    "plt.figure()\n",
    "plt.plot(np.arange(0, 9, step), s[10000:], '-', color=(0, 1, 0, 0.5), lw=3)"
   ]
  },
  {
   "cell_type": "markdown",
   "id": "ae223486-e4ee-4ec5-8cd2-3717da7479c6",
   "metadata": {},
   "source": [
    "Нам нужно, чтобы выполнялось уравнение периодов $pT_0 = (m + 1)\\Delta$ при $p \\in \\mathbb{Z}$."
   ]
  },
  {
   "cell_type": "code",
   "execution_count": 77,
   "id": "fd526d79-f995-42dc-9cfc-18ed7481da98",
   "metadata": {},
   "outputs": [
    {
     "name": "stdout",
     "output_type": "stream",
     "text": [
      "1.2\n"
     ]
    }
   ],
   "source": [
    "# Максимальное значение T_0\n",
    "print((m + 1) * delta)"
   ]
  },
  {
   "cell_type": "markdown",
   "id": "0c890c65-8064-4e78-9a46-20d9cb3193b0",
   "metadata": {},
   "source": [
    "Фиксируем $h$. Устроим перебор по $\\beta, m, u_0$"
   ]
  },
  {
   "cell_type": "code",
   "execution_count": 587,
   "id": "b8babcb8-4fa8-42ad-80f1-3da71407357a",
   "metadata": {},
   "outputs": [
    {
     "name": "stdout",
     "output_type": "stream",
     "text": [
      "u0 = 1.0001\n",
      "m = 3\n",
      "beta = 5.00\n",
      "h = -0.41\n",
      "Delta = 0.450\n",
      "Запаздывания: [0.044999999999999984, 0.495, 0.9450000000000001]\n",
      "Max T0 = 1.800\n"
     ]
    }
   ],
   "source": [
    "u0 = 1.0001\n",
    "m = 3\n",
    "delta = 0.9 / (m - 1)\n",
    "h = -delta * 0.9\n",
    "print('u0 = {0}'.format(u0))\n",
    "print('m = {0}'.format(m))\n",
    "print('beta = {0:.2f}'.format(beta))\n",
    "print('h = {0:.2f}'.format(h))\n",
    "print('Delta = {0:.3f}'.format(delta))\n",
    "print('Запаздывания: {0}'.format([h + i * delta for i in range(1, m + 1)]))\n",
    "T0_max = (m + 1) * delta\n",
    "print('Max T0 = {0:.3f}'.format(T0_max))\n",
    "\n"
   ]
  },
  {
   "cell_type": "code",
   "execution_count": 588,
   "id": "476bd982-8fa1-4515-a6e4-35a11dba1cad",
   "metadata": {},
   "outputs": [
    {
     "name": "stdout",
     "output_type": "stream",
     "text": [
      "1.122848209101636\n",
      "19.309376927998116\n",
      "5.0 19.309376927998116 1.3165399933628255 1.8\n"
     ]
    }
   ],
   "source": [
    "beta = 5.0\n",
    "print(t0(u0, beta, h, delta, m))\n",
    "\n",
    "min_alpha = (np.exp(beta * (h + 2 * delta)) - 1) / np.exp(beta * (h + delta)) / delta\n",
    "print(min_alpha)\n",
    "\n",
    "for alpha in np.arange(min_alpha, 100 * min_alpha, min_alpha):\n",
    "    t_1 = scipy.optimize.fsolve(lambda x: np.exp(beta * (h + delta)) * alpha * \\\n",
    "                                (x - h - delta - t_0) - np.exp(beta * (x - t_0)) + 1, x0=t_0 + h + 1.5 * delta)[0]\n",
    "    t_2 = np.power(beta, -1) * (np.log(u_wave) - np.log(A(beta, h, delta, m))) + t_1\n",
    "    if (t_2 - t_1) > 1:\n",
    "        T_0 = np.power(beta, -1) * (np.log(u_wave) - np.log(A(beta, h, delta, m))) - t_0 + t_1\n",
    "        if T_0 < T0_max:\n",
    "            print(beta, alpha, T_0, T0_max)\n",
    "            break"
   ]
  }
 ],
 "metadata": {
  "kernelspec": {
   "display_name": "Python 3 (ipykernel)",
   "language": "python",
   "name": "python3"
  },
  "language_info": {
   "codemirror_mode": {
    "name": "ipython",
    "version": 3
   },
   "file_extension": ".py",
   "mimetype": "text/x-python",
   "name": "python",
   "nbconvert_exporter": "python",
   "pygments_lexer": "ipython3",
   "version": "3.10.2"
  }
 },
 "nbformat": 4,
 "nbformat_minor": 5
}
